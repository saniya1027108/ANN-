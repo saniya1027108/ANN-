{
  "nbformat": 4,
  "nbformat_minor": 0,
  "metadata": {
    "colab": {
      "provenance": [],
      "gpuType": "T4"
    },
    "kernelspec": {
      "name": "python3",
      "display_name": "Python 3"
    },
    "language_info": {
      "name": "python"
    },
    "accelerator": "GPU"
  },
  "cells": [
    {
      "cell_type": "code",
      "execution_count": 6,
      "metadata": {
        "colab": {
          "base_uri": "https://localhost:8080/"
        },
        "id": "ZkpyNuONK0-J",
        "outputId": "5e5fbd1c-bbd3-445e-df43-b148ed8b0f81"
      },
      "outputs": [
        {
          "output_type": "stream",
          "name": "stdout",
          "text": [
            "Downloading data from https://storage.googleapis.com/tensorflow/keras-applications/mobilenet_v2/mobilenet_v2_weights_tf_dim_ordering_tf_kernels_1.0_224.h5\n",
            "14536120/14536120 [==============================] - 1s 0us/step\n",
            "1/1 [==============================] - 1s 1s/step\n",
            "Downloading data from https://storage.googleapis.com/download.tensorflow.org/data/imagenet_class_index.json\n",
            "35363/35363 [==============================] - 0s 0us/step\n",
            "golden_retriever: 95.75560092926025%\n",
            "cocker_spaniel: 0.505110714584589%\n",
            "Labrador_retriever: 0.2822533715516329%\n",
            "otterhound: 0.1993145328015089%\n",
            "Saluki: 0.18450210336595774%\n"
          ]
        }
      ],
      "source": [
        "import tensorflow as tf\n",
        "model = tf.keras.applications.MobileNetV2(weights='imagenet')\n",
        "# Load image and preprocess it\n",
        "image = tf.keras.preprocessing.image.load_img('/content/download.jpeg', target_size=(224, 224))\n",
        "image = tf.keras.preprocessing.image.img_to_array(image)\n",
        "image = tf.keras.applications.mobilenet_v2.preprocess_input(image)\n",
        "image = tf.expand_dims(image, axis=0)\n",
        "# Run object detection\n",
        "predictions = model.predict(image)\n",
        "decoded_predictions = tf.keras.applications.mobilenet_v2.decode_predictions(predictions)\n",
        "# Print top predicted objects\n",
        "for _, label, confidence in decoded_predictions[0]:\n",
        "    print(f\"{label}: {confidence * 100}%\")"
      ]
    },
    {
      "cell_type": "code",
      "source": [
        "predictions"
      ],
      "metadata": {
        "colab": {
          "base_uri": "https://localhost:8080/"
        },
        "id": "yWKjekwzK2cE",
        "outputId": "51c38297-a64e-43d8-ef52-c38a8a07c8e1"
      },
      "execution_count": 2,
      "outputs": [
        {
          "output_type": "execute_result",
          "data": {
            "text/plain": [
              "array([[4.8920693e-04, 2.1202317e-02, 4.3787243e-04, ..., 1.9261253e-04,\n",
              "        2.3746394e-04, 3.2057220e-03],\n",
              "       [4.0978016e-03, 1.1373126e-01, 4.5709740e-08, ..., 4.7721165e-09,\n",
              "        8.7688005e-01, 5.2902927e-03],\n",
              "       [1.4497687e-01, 3.2172847e-01, 1.1241399e-03, ..., 4.5366542e-04,\n",
              "        4.9916175e-01, 2.8122816e-02],\n",
              "       ...,\n",
              "       [4.1542207e-06, 4.2558060e-08, 2.3583221e-01, ..., 2.0992862e-02,\n",
              "        4.9228134e-07, 2.3115215e-06],\n",
              "       [2.9372208e-02, 9.6170825e-01, 3.8320741e-05, ..., 7.6057022e-06,\n",
              "        8.7212415e-05, 1.5076759e-04],\n",
              "       [2.5546345e-07, 9.4190558e-09, 1.9968698e-05, ..., 9.9603939e-01,\n",
              "        6.7683879e-07, 7.1950751e-08]], dtype=float32)"
            ]
          },
          "metadata": {},
          "execution_count": 2
        }
      ]
    },
    {
      "cell_type": "code",
      "source": [],
      "metadata": {
        "id": "Vjl2munFM0aH"
      },
      "execution_count": null,
      "outputs": []
    }
  ]
}