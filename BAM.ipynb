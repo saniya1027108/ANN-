{
  "nbformat": 4,
  "nbformat_minor": 0,
  "metadata": {
    "colab": {
      "provenance": [],
      "gpuType": "T4"
    },
    "kernelspec": {
      "name": "python3",
      "display_name": "Python 3"
    },
    "language_info": {
      "name": "python"
    },
    "accelerator": "GPU"
  },
  "cells": [
    {
      "cell_type": "code",
      "execution_count": 2,
      "metadata": {
        "colab": {
          "base_uri": "https://localhost:8080/"
        },
        "id": "ZkpyNuONK0-J",
        "outputId": "75ae78a4-78e8-4a2c-a43c-025be27b6fb8"
      },
      "outputs": [
        {
          "output_type": "stream",
          "name": "stdout",
          "text": [
            "Input vector: [ 1  1  1 -1 -1]\n",
            "Output vector: [ 1. -1.]\n"
          ]
        }
      ],
      "source": [
        "import numpy as np\n",
        "\n",
        "def initialize_weights(X, Y):\n",
        "    # Initialize weight matrix\n",
        "    num_features = len(X[0])\n",
        "    num_classes = len(Y[0])\n",
        "    weights = np.zeros((num_classes, num_features))\n",
        "\n",
        "    # Update weights based on input-output pairs\n",
        "    for i in range(len(X)):\n",
        "        x = np.array([X[i]])\n",
        "        y = np.array([Y[i]])\n",
        "        weights += np.dot(y.T, x)\n",
        "\n",
        "    return weights\n",
        "\n",
        "def bam_recall(input_vec, weights):\n",
        "    # Recall phase of BAM\n",
        "\n",
        "    # Calculate the association between input and output\n",
        "    output_vec = np.dot(weights, input_vec.T)\n",
        "\n",
        "    # Threshold activation\n",
        "    output_vec[output_vec >= 0] = 1\n",
        "    output_vec[output_vec < 0] = -1\n",
        "\n",
        "    return output_vec\n",
        "\n",
        "# Define input and output pairs\n",
        "X = [[1, 1, 1, -1, -1],\n",
        "     [-1, 1, -1, 1, -1]]\n",
        "Y = [[1, -1],\n",
        "     [-1, 1]]\n",
        "\n",
        "# Initialize weights\n",
        "weights = initialize_weights(X, Y)\n",
        "\n",
        "# Test recall phase\n",
        "input_vec = np.array([1, 1, 1, -1, -1])\n",
        "output_vec = bam_recall(input_vec, weights)\n",
        "\n",
        "# Print the input and output vectors\n",
        "print(\"Input vector:\", input_vec)\n",
        "print(\"Output vector:\", output_vec)\n"
      ]
    },
    {
      "cell_type": "code",
      "source": [],
      "metadata": {
        "id": "Q3I_k0FVgTA1"
      },
      "execution_count": null,
      "outputs": []
    }
  ]
}