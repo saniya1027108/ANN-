{
 "cells": [
  {
   "cell_type": "code",
   "execution_count": 111,
   "id": "5a46c0c9",
   "metadata": {},
   "outputs": [
    {
     "name": "stdout",
     "output_type": "stream",
     "text": [
      "['activation_function', 'mcculloh_pitt', 'ascii_perceptron', 'descision_region_perceptron', 'bam', 'ann_forward_backward', 'xor_backprop', 'art_network', 'hopfield_network', 'cnn_object_detection', 'cnn_image_classification', 'cnn_tf_implementation', 'mnist_detection', 'recognize_5x3_matrix']\n"
     ]
    }
   ],
   "source": [
    "from LegacyNeuralNetworks.ann_fill import Writer\n",
    "write = Writer('output.txt')\n",
    "print(write.questions)"
   ]
  },
  {
   "cell_type": "code",
   "execution_count": 112,
   "id": "c701729f",
   "metadata": {},
   "outputs": [
    {
     "name": "stdout",
     "output_type": "stream",
     "text": [
      "##############################################\n"
     ]
    }
   ],
   "source": [
    "write.getCode('hopfield_network')"
   ]
  },
  {
   "cell_type": "code",
   "execution_count": 113,
   "id": "d3f01b96",
   "metadata": {},
   "outputs": [
    {
     "name": "stdout",
     "output_type": "stream",
     "text": [
      "Retrieved Pattern:\n",
      "[ 1  1 -1 -1]\n"
     ]
    }
   ],
   "source": [
    "import numpy as np\n",
    "# Define the patterns to be stored\n",
    "patterns = np.array([\n",
    "    [1, -1, 1, -1],\n",
    "    [-1, 1, -1, 1],\n",
    "    [1, 1, -1, -1],\n",
    "    [-1, -1, 1, 1]\n",
    "])\n",
    "# Train the Hopfield network\n",
    "weights = np.dot(patterns.T, patterns)\n",
    "np.fill_diagonal(weights, 0) #no self connection \n",
    "# Recall a pattern\n",
    "recall_pattern = np.array([1, 1, -1, -1])\n",
    "retrieved_pattern = np.sign(np.dot(weights, recall_pattern))\n",
    "print(\"Retrieved Pattern:\")\n",
    "print(retrieved_pattern)"
   ]
  }
 ],
 "metadata": {
  "kernelspec": {
   "display_name": "Python 3 (ipykernel)",
   "language": "python",
   "name": "python3"
  },
  "language_info": {
   "codemirror_mode": {
    "name": "ipython",
    "version": 3
   },
   "file_extension": ".py",
   "mimetype": "text/x-python",
   "name": "python",
   "nbconvert_exporter": "python",
   "pygments_lexer": "ipython3",
   "version": "3.11.1"
  }
 },
 "nbformat": 4,
 "nbformat_minor": 5
}
