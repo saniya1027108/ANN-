{
  "nbformat": 4,
  "nbformat_minor": 0,
  "metadata": {
    "colab": {
      "provenance": [],
      "authorship_tag": "ABX9TyPmM8Z92GZexgWhKhjw54/t",
      "include_colab_link": true
    },
    "kernelspec": {
      "name": "python3",
      "display_name": "Python 3"
    },
    "language_info": {
      "name": "python"
    }
  },
  "cells": [
    {
      "cell_type": "markdown",
      "metadata": {
        "id": "view-in-github",
        "colab_type": "text"
      },
      "source": [
        "<a href=\"https://colab.research.google.com/github/saniya1027108/ANN-/blob/main/employee_search(menu_driven).ipynb\" target=\"_parent\"><img src=\"https://colab.research.google.com/assets/colab-badge.svg\" alt=\"Open In Colab\"/></a>"
      ]
    },
    {
      "cell_type": "code",
      "execution_count": null,
      "metadata": {
        "colab": {
          "base_uri": "https://localhost:8080/"
        },
        "id": "Mfv3BZre7CHn",
        "outputId": "d91b3c3b-52a5-401d-a576-5a07d1373146"
      },
      "outputs": [
        {
          "output_type": "stream",
          "name": "stdout",
          "text": [
            "1.Add\n",
            " 2.Search\n",
            " 3.Remove\n",
            " 4.List all\n",
            " 0.Exit\n",
            "1\n",
            "wrong choice\n"
          ]
        }
      ],
      "source": [
        "emp={}\n",
        "while True:\n",
        "  choice = input(\"1.Add\\n 2.Search\\n 3.Remove\\n 4.List all\\n 0.Exit\\n\")\n",
        "  if choice == 1:\n",
        "    eid = int(input(\"Enter emp id: \"))\n",
        "    name = input(\"Enter emp name: \")\n",
        "    gender = input(\"enter emp gender: \")\n",
        "    salary = float(input(\"enter salary: \"))\n",
        "    emp[eid]=[name, gender, salary]\n",
        "  elif choice == 2:\n",
        "    id = int(input('enter id to search: '))\n",
        "    if id in emp:\n",
        "      print(emp[id])\n",
        "    else:\n",
        "      print(\"id not present\")\n",
        "  elif choice == 3:\n",
        "    id = int(input('enter id to remove: '))\n",
        "    if id in emp:\n",
        "      emp.pop(id)\n",
        "    else:\n",
        "      print(\"id not present\")\n",
        "  elif choice == 4:\n",
        "    print(\"Employee data in list: \")\n",
        "    for id in emp.keys():\n",
        "      print(\"emp id\", id, \"-->\", emp[id])\n",
        "  elif choice == 0:\n",
        "    print(\"thanks for using code\")\n",
        "    break\n",
        "  else:\n",
        "    print(\"wrong choice\")\n",
        "\n",
        "\n"
      ]
    }
  ]
}